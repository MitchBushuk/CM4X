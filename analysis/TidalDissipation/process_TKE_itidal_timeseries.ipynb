{
 "cells": [
  {
   "cell_type": "markdown",
   "id": "headed-tender",
   "metadata": {},
   "source": [
    "## Timeseries of globally-integrated energy flux from barotropic to baroclinic tides"
   ]
  },
  {
   "cell_type": "code",
   "execution_count": 1,
   "id": "comfortable-scale",
   "metadata": {
    "tags": []
   },
   "outputs": [
    {
     "name": "stdout",
     "output_type": "stream",
     "text": [
      "numpy version  :  1.26.4\n",
      "xarray version :  2024.5.0\n"
     ]
    }
   ],
   "source": [
    "import xarray as xr\n",
    "import matplotlib.pyplot as plt\n",
    "import numpy as np\n",
    "\n",
    "print(\"numpy version  : \", np.__version__)\n",
    "print(\"xarray version : \", xr.__version__)"
   ]
  },
  {
   "cell_type": "code",
   "execution_count": 2,
   "id": "8a020ffc-74f6-4fc1-995e-2b705112eecc",
   "metadata": {
    "tags": []
   },
   "outputs": [],
   "source": [
    "import os, sys\n",
    "sys.path.append('../../')"
   ]
  },
  {
   "cell_type": "code",
   "execution_count": 3,
   "id": "ec0ef333-3f98-47a5-9bec-4434a42b9ab5",
   "metadata": {
    "tags": []
   },
   "outputs": [
    {
     "data": {
      "text/plain": [
       "{'CM4p25': {'hgrid': '/archive/Raphael.Dussin/datasets/OM4p25/c192_OM4_025_grid_No_mg_drag_v20160808_unpacked/ocean_hgrid.nc',\n",
       "  'piControl-spinup': 'odiv-210',\n",
       "  'piControl': 'odiv-230',\n",
       "  'piControl-continued': 'odiv-306',\n",
       "  'historical': 'odiv-231',\n",
       "  'ssp585': 'odiv-232'},\n",
       " 'CM4p125': {'hgrid': '/archive/Raphael.Dussin/datasets/OM4p125/mosaic_c192_om4p125_bedmachine_v20210310_hydrographyKDunne20210614_unpacked/ocean_hgrid.nc',\n",
       "  'piControl-spinup': 'odiv-209',\n",
       "  'piControl': 'odiv-313',\n",
       "  'piControl-continued': 'odiv-437',\n",
       "  'historical': 'odiv-255',\n",
       "  'ssp585': 'odiv-293'}}"
      ]
     },
     "execution_count": 3,
     "metadata": {},
     "output_type": "execute_result"
    }
   ],
   "source": [
    "from CM4X_metadata import *\n",
    "exp_dict"
   ]
  },
  {
   "cell_type": "code",
   "execution_count": 4,
   "id": "788bad8c-aec4-46d7-9dee-e9de83674b2d",
   "metadata": {
    "tags": []
   },
   "outputs": [],
   "source": [
    "import doralite\n",
    "import gfdl_utils.core as gu"
   ]
  },
  {
   "cell_type": "code",
   "execution_count": 5,
   "id": "5b6ff572-9693-49c9-af3e-4786b67cec6b",
   "metadata": {
    "tags": []
   },
   "outputs": [],
   "source": [
    "def load_dataset(exp_name):\n",
    "    pp = doralite.dora_metadata(exp_name)['pathPP']\n",
    "    ppname = gu.find_unique_variable(pp, \"TKE_itidal\")\n",
    "    out = \"ts\"\n",
    "    local = gu.get_local(pp, ppname, out)\n",
    "    static = gu.open_static(pp, ppname)\n",
    "    ds = gu.open_frompp(pp, ppname, out, local, time=\"*\", add=\"TKE_itidal\", dmget=True)\n",
    "    offset_years = 1850-101 if \"piControl\" in pp else 0\n",
    "    ds = ds.assign_coords({'year': ds.time.dt.year + offset_years})\n",
    "    return xr.merge([ds, static])"
   ]
  },
  {
   "cell_type": "code",
   "execution_count": 6,
   "id": "e96d79fc-35b4-4954-905a-539d33ecd842",
   "metadata": {
    "tags": []
   },
   "outputs": [
    {
     "name": "stdout",
     "output_type": "stream",
     "text": [
      "Issuing dmget command to migrate data to disk. Migration complete.\n",
      "Issuing dmget command to migrate data to disk. Migration complete.\n",
      "Issuing dmget command to migrate data to disk. Migration complete.\n",
      "Issuing dmget command to migrate data to disk. Migration complete.\n",
      "Issuing dmget command to migrate data to disk. Migration complete.\n",
      "Issuing dmget command to migrate data to disk. Migration complete.\n",
      "Issuing dmget command to migrate data to disk. Migration complete.\n",
      "Issuing dmget command to migrate data to disk. Migration complete.\n",
      "Issuing dmget command to migrate data to disk. Migration complete.\n",
      "Issuing dmget command to migrate data to disk. Migration complete.\n"
     ]
    }
   ],
   "source": [
    "cutoff_depth=2500\n",
    "\n",
    "ds_dict = {}\n",
    "for model, exps in exp_dict.items():\n",
    "    ds_dict[model] = {}\n",
    "    for exp, exp_name in exps.items():\n",
    "        if exp=='hgrid': continue\n",
    "        \n",
    "        data_path = f\"../../data/plotting_ready/TKE_itidal_global_{model}_{exp}.nc\"\n",
    "        ds = load_dataset(exp_name)\n",
    "        ds['TKE_itidal_areaweighted'] = ds.TKE_itidal*ds.areacello\n",
    "        ds['TKE_itidal_global'] = ds.TKE_itidal_areaweighted.sum(['xh', 'yh']).compute()*1e-12\n",
    "\n",
    "        ncells = 8 if model==\"CM4p25\" else 16\n",
    "        ds['deptho_smooth'] = ds.deptho.fillna(0.).rolling({\"xh\":ncells, \"yh\":ncells}).mean()\n",
    "\n",
    "        ds['TKE_itidal_deep'] = (\n",
    "            ds.TKE_itidal_areaweighted\n",
    "            .where(ds.deptho_smooth > cutoff_depth)\n",
    "        ).sum([\"xh\", \"yh\"]).compute()*1e-12\n",
    "        ds['TKE_itidal_shallow'] = ds.TKE_itidal_global - ds.TKE_itidal_deep\n",
    "        ds.drop_dims(['nv', 'xh', 'yh', 'xq', 'yq']).to_netcdf(data_path, mode=\"w\")\n",
    "            \n",
    "        ds_dict[model][exp] = ds"
   ]
  }
 ],
 "metadata": {
  "kernelspec": {
   "display_name": "Python 3 (ipykernel)",
   "language": "python",
   "name": "python3"
  },
  "language_info": {
   "codemirror_mode": {
    "name": "ipython",
    "version": 3
   },
   "file_extension": ".py",
   "mimetype": "text/x-python",
   "name": "python",
   "nbconvert_exporter": "python",
   "pygments_lexer": "ipython3",
   "version": "3.12.3"
  }
 },
 "nbformat": 4,
 "nbformat_minor": 5
}
