{
 "cells": [
  {
   "cell_type": "code",
   "execution_count": 1,
   "id": "b970bdbd-ea85-4b08-a7af-d10f5da97fdc",
   "metadata": {},
   "outputs": [],
   "source": [
    "import datetime\n",
    "import glob\n",
    "import os\n",
    "import subprocess\n",
    "\n",
    "import cftime\n",
    "import xarray as xr"
   ]
  },
  {
   "cell_type": "markdown",
   "id": "255da9b7-782b-4cb8-8004-3cb7e5120227",
   "metadata": {},
   "source": [
    "# Setup GFDL-specific Parameters"
   ]
  },
  {
   "cell_type": "markdown",
   "id": "9a33b241-c671-4167-b155-703f9f19c39a",
   "metadata": {},
   "source": [
    "This section defines the GFDL experiment post-processing directory, experiment name, and the variable name mapping between GFDL and CMOR conventions."
   ]
  },
  {
   "cell_type": "code",
   "execution_count": 111,
   "id": "f50b8b8a-54b0-4001-a70f-88fd9073e401",
   "metadata": {},
   "outputs": [
    {
     "name": "stdout",
     "output_type": "stream",
     "text": [
      "/vftmp/John.Krasting/pmp_results_ESM4_historical\n"
     ]
    }
   ],
   "source": [
    "# define post-processing directory\n",
    "\n",
    "ppdir = (\n",
    "    \"/archive/oar.gfdl.cmip6/ESM4/DECK/ESM4_historical_D1/gfdl.ncrc4-intel16-prod-openmp/pp/\"\n",
    "    + \"atmos_cmip/ts/monthly/5yr\"\n",
    ")\n",
    "\n",
    "# experiment name\n",
    "descriptor = \"ESM4_historical\"\n",
    "\n",
    "# `None` values will result in all available years, otherwise specify integer years\n",
    "yr1 = 1979\n",
    "yr2 = 2014\n",
    "\n",
    "# specify an output directory for the climatology files and metrics json files\n",
    "outdir = f\"/vftmp/John.Krasting/pmp_results_{descriptor}\"\n",
    "\n",
    "# path to PCMDI Metrics data root\n",
    "pmp_data_root = \"/home/mdteam/pcmdi_metrics\"\n",
    "\n",
    "print(outdir)"
   ]
  },
  {
   "cell_type": "code",
   "execution_count": 112,
   "id": "1629cd0b-ee84-463b-8238-077658b5d6fe",
   "metadata": {},
   "outputs": [],
   "source": [
    "! mkdir -p /vftmp/John.Krasting/pmp_results_ESM4_historical"
   ]
  },
  {
   "cell_type": "code",
   "execution_count": 113,
   "id": "073c2003-787f-41eb-b846-c66e77dc8336",
   "metadata": {},
   "outputs": [],
   "source": [
    "# Define default GFDL to CMOR variable mapping\n",
    "\n",
    "varmap = {\n",
    "    \"hur\": None,\n",
    "    \"hurs\": None,\n",
    "    \"hus\": None,\n",
    "    \"huss\": None,\n",
    "    \"pr\": \"pr\",\n",
    "    \"prw\": \"prw\",\n",
    "    \"psl\": \"psl\",\n",
    "    \"rlds\": \"rlds\",\n",
    "    \"rltcre\": None,\n",
    "    \"rlus\": \"rlus\",\n",
    "    \"rlut\": \"rlut\",\n",
    "    \"rlutcs\": \"rlutcs\",\n",
    "    \"rsds\": \"rsds\",\n",
    "    \"rsdscs\": \"rsdscs\",\n",
    "    \"rsdt\": \"rsdt\",\n",
    "    \"rstcre\": None,\n",
    "    \"rsus\": \"rsus\",\n",
    "    \"rsut\": \"rsut\",\n",
    "    \"rsutcs\": \"rsutcs\",\n",
    "    \"sfcWind\": \"sfcWind\",\n",
    "    \"ta\": \"ta\",\n",
    "    \"tas\": \"tas\",\n",
    "    \"tauu\": \"tauu\",\n",
    "    \"tauv\": \"tauv\",\n",
    "    \"ua\": \"ua\",\n",
    "    \"va\": \"va\",\n",
    "    \"zg\": \"zg\",\n",
    "}\n",
    "\n",
    "varmap = {k: v for k, v in varmap.items() if v is not None}\n",
    "\n",
    "tcoord = \"time\""
   ]
  },
  {
   "cell_type": "markdown",
   "id": "e3876c22-6359-4251-8d38-f9aa9d7d5377",
   "metadata": {},
   "source": [
    "# Create the Annual Cycle climatology files"
   ]
  },
  {
   "cell_type": "markdown",
   "id": "3cf8e689-bbe7-43f8-b1f0-a82ea546ceb5",
   "metadata": {},
   "source": [
    "The PCMDI Metrics Pacakge mean climate module requires annual cycle (AC) climatology files as inputs. The code below identifies relevant post-processed files, aggreates them, and generates the AC files in a PMP-compatible format."
   ]
  },
  {
   "cell_type": "markdown",
   "id": "a9610463-035e-416b-bc49-d68e1bf99991",
   "metadata": {},
   "source": [
    "## Identify files are recall from tape archive"
   ]
  },
  {
   "cell_type": "code",
   "execution_count": 114,
   "id": "09d6f110-6aaf-4716-85aa-5afdc174a5a4",
   "metadata": {},
   "outputs": [],
   "source": [
    "# construct a list of relevant files that match the variable names defined above\n",
    "files = [glob.glob(f\"{ppdir}/*.{var}.nc\") for var in varmap.values()]\n",
    "files = sorted([file for sublist in files for file in sublist])"
   ]
  },
  {
   "cell_type": "code",
   "execution_count": 115,
   "id": "aaec31de-744e-4e01-ab97-e6bda3480033",
   "metadata": {},
   "outputs": [],
   "source": [
    "def is_in_range(filepath,yr1,yr2):\n",
    "    \n",
    "    yr1 = -99999 if yr1 is None else yr1\n",
    "    yr2 = 99999 if yr2 is None else yr2\n",
    "    \n",
    "    filename = os.path.split(filepath)[-1]\n",
    "    years = filename.split(\".\")[1].split(\"-\")\n",
    "    years = [int(x[0:4]) for x in years]\n",
    "    if (years[1] < int(yr1)) or (years[0] > int(yr2)):\n",
    "        result = False\n",
    "    else:\n",
    "        result = True\n",
    "    return result\n",
    "    \n",
    "files = [x for x in files if is_in_range(x,yr1,yr2)]"
   ]
  },
  {
   "cell_type": "code",
   "execution_count": 116,
   "id": "af65d5b0-7866-4814-a785-09cb03f64d40",
   "metadata": {},
   "outputs": [
    {
     "data": {
      "text/plain": [
       "['/archive/oar.gfdl.cmip6/ESM4/DECK/ESM4_historical_D1/gfdl.ncrc4-intel16-prod-openmp/pp/atmos_cmip/ts/monthly/5yr/atmos_cmip.197501-197912.pr.nc',\n",
       " '/archive/oar.gfdl.cmip6/ESM4/DECK/ESM4_historical_D1/gfdl.ncrc4-intel16-prod-openmp/pp/atmos_cmip/ts/monthly/5yr/atmos_cmip.197501-197912.prw.nc',\n",
       " '/archive/oar.gfdl.cmip6/ESM4/DECK/ESM4_historical_D1/gfdl.ncrc4-intel16-prod-openmp/pp/atmos_cmip/ts/monthly/5yr/atmos_cmip.197501-197912.psl.nc',\n",
       " '/archive/oar.gfdl.cmip6/ESM4/DECK/ESM4_historical_D1/gfdl.ncrc4-intel16-prod-openmp/pp/atmos_cmip/ts/monthly/5yr/atmos_cmip.197501-197912.rlds.nc',\n",
       " '/archive/oar.gfdl.cmip6/ESM4/DECK/ESM4_historical_D1/gfdl.ncrc4-intel16-prod-openmp/pp/atmos_cmip/ts/monthly/5yr/atmos_cmip.197501-197912.rlus.nc',\n",
       " '/archive/oar.gfdl.cmip6/ESM4/DECK/ESM4_historical_D1/gfdl.ncrc4-intel16-prod-openmp/pp/atmos_cmip/ts/monthly/5yr/atmos_cmip.197501-197912.rlut.nc',\n",
       " '/archive/oar.gfdl.cmip6/ESM4/DECK/ESM4_historical_D1/gfdl.ncrc4-intel16-prod-openmp/pp/atmos_cmip/ts/monthly/5yr/atmos_cmip.197501-197912.rlutcs.nc',\n",
       " '/archive/oar.gfdl.cmip6/ESM4/DECK/ESM4_historical_D1/gfdl.ncrc4-intel16-prod-openmp/pp/atmos_cmip/ts/monthly/5yr/atmos_cmip.197501-197912.rsds.nc',\n",
       " '/archive/oar.gfdl.cmip6/ESM4/DECK/ESM4_historical_D1/gfdl.ncrc4-intel16-prod-openmp/pp/atmos_cmip/ts/monthly/5yr/atmos_cmip.197501-197912.rsdscs.nc',\n",
       " '/archive/oar.gfdl.cmip6/ESM4/DECK/ESM4_historical_D1/gfdl.ncrc4-intel16-prod-openmp/pp/atmos_cmip/ts/monthly/5yr/atmos_cmip.197501-197912.rsdt.nc',\n",
       " '/archive/oar.gfdl.cmip6/ESM4/DECK/ESM4_historical_D1/gfdl.ncrc4-intel16-prod-openmp/pp/atmos_cmip/ts/monthly/5yr/atmos_cmip.197501-197912.rsus.nc',\n",
       " '/archive/oar.gfdl.cmip6/ESM4/DECK/ESM4_historical_D1/gfdl.ncrc4-intel16-prod-openmp/pp/atmos_cmip/ts/monthly/5yr/atmos_cmip.197501-197912.rsut.nc',\n",
       " '/archive/oar.gfdl.cmip6/ESM4/DECK/ESM4_historical_D1/gfdl.ncrc4-intel16-prod-openmp/pp/atmos_cmip/ts/monthly/5yr/atmos_cmip.197501-197912.rsutcs.nc',\n",
       " '/archive/oar.gfdl.cmip6/ESM4/DECK/ESM4_historical_D1/gfdl.ncrc4-intel16-prod-openmp/pp/atmos_cmip/ts/monthly/5yr/atmos_cmip.197501-197912.sfcWind.nc',\n",
       " '/archive/oar.gfdl.cmip6/ESM4/DECK/ESM4_historical_D1/gfdl.ncrc4-intel16-prod-openmp/pp/atmos_cmip/ts/monthly/5yr/atmos_cmip.197501-197912.ta.nc',\n",
       " '/archive/oar.gfdl.cmip6/ESM4/DECK/ESM4_historical_D1/gfdl.ncrc4-intel16-prod-openmp/pp/atmos_cmip/ts/monthly/5yr/atmos_cmip.197501-197912.tas.nc',\n",
       " '/archive/oar.gfdl.cmip6/ESM4/DECK/ESM4_historical_D1/gfdl.ncrc4-intel16-prod-openmp/pp/atmos_cmip/ts/monthly/5yr/atmos_cmip.197501-197912.tauu.nc',\n",
       " '/archive/oar.gfdl.cmip6/ESM4/DECK/ESM4_historical_D1/gfdl.ncrc4-intel16-prod-openmp/pp/atmos_cmip/ts/monthly/5yr/atmos_cmip.197501-197912.tauv.nc',\n",
       " '/archive/oar.gfdl.cmip6/ESM4/DECK/ESM4_historical_D1/gfdl.ncrc4-intel16-prod-openmp/pp/atmos_cmip/ts/monthly/5yr/atmos_cmip.197501-197912.ua.nc',\n",
       " '/archive/oar.gfdl.cmip6/ESM4/DECK/ESM4_historical_D1/gfdl.ncrc4-intel16-prod-openmp/pp/atmos_cmip/ts/monthly/5yr/atmos_cmip.197501-197912.va.nc',\n",
       " '/archive/oar.gfdl.cmip6/ESM4/DECK/ESM4_historical_D1/gfdl.ncrc4-intel16-prod-openmp/pp/atmos_cmip/ts/monthly/5yr/atmos_cmip.197501-197912.zg.nc',\n",
       " '/archive/oar.gfdl.cmip6/ESM4/DECK/ESM4_historical_D1/gfdl.ncrc4-intel16-prod-openmp/pp/atmos_cmip/ts/monthly/5yr/atmos_cmip.198001-198412.pr.nc',\n",
       " '/archive/oar.gfdl.cmip6/ESM4/DECK/ESM4_historical_D1/gfdl.ncrc4-intel16-prod-openmp/pp/atmos_cmip/ts/monthly/5yr/atmos_cmip.198001-198412.prw.nc',\n",
       " '/archive/oar.gfdl.cmip6/ESM4/DECK/ESM4_historical_D1/gfdl.ncrc4-intel16-prod-openmp/pp/atmos_cmip/ts/monthly/5yr/atmos_cmip.198001-198412.psl.nc',\n",
       " '/archive/oar.gfdl.cmip6/ESM4/DECK/ESM4_historical_D1/gfdl.ncrc4-intel16-prod-openmp/pp/atmos_cmip/ts/monthly/5yr/atmos_cmip.198001-198412.rlds.nc',\n",
       " '/archive/oar.gfdl.cmip6/ESM4/DECK/ESM4_historical_D1/gfdl.ncrc4-intel16-prod-openmp/pp/atmos_cmip/ts/monthly/5yr/atmos_cmip.198001-198412.rlus.nc',\n",
       " '/archive/oar.gfdl.cmip6/ESM4/DECK/ESM4_historical_D1/gfdl.ncrc4-intel16-prod-openmp/pp/atmos_cmip/ts/monthly/5yr/atmos_cmip.198001-198412.rlut.nc',\n",
       " '/archive/oar.gfdl.cmip6/ESM4/DECK/ESM4_historical_D1/gfdl.ncrc4-intel16-prod-openmp/pp/atmos_cmip/ts/monthly/5yr/atmos_cmip.198001-198412.rlutcs.nc',\n",
       " '/archive/oar.gfdl.cmip6/ESM4/DECK/ESM4_historical_D1/gfdl.ncrc4-intel16-prod-openmp/pp/atmos_cmip/ts/monthly/5yr/atmos_cmip.198001-198412.rsds.nc',\n",
       " '/archive/oar.gfdl.cmip6/ESM4/DECK/ESM4_historical_D1/gfdl.ncrc4-intel16-prod-openmp/pp/atmos_cmip/ts/monthly/5yr/atmos_cmip.198001-198412.rsdscs.nc',\n",
       " '/archive/oar.gfdl.cmip6/ESM4/DECK/ESM4_historical_D1/gfdl.ncrc4-intel16-prod-openmp/pp/atmos_cmip/ts/monthly/5yr/atmos_cmip.198001-198412.rsdt.nc',\n",
       " '/archive/oar.gfdl.cmip6/ESM4/DECK/ESM4_historical_D1/gfdl.ncrc4-intel16-prod-openmp/pp/atmos_cmip/ts/monthly/5yr/atmos_cmip.198001-198412.rsus.nc',\n",
       " '/archive/oar.gfdl.cmip6/ESM4/DECK/ESM4_historical_D1/gfdl.ncrc4-intel16-prod-openmp/pp/atmos_cmip/ts/monthly/5yr/atmos_cmip.198001-198412.rsut.nc',\n",
       " '/archive/oar.gfdl.cmip6/ESM4/DECK/ESM4_historical_D1/gfdl.ncrc4-intel16-prod-openmp/pp/atmos_cmip/ts/monthly/5yr/atmos_cmip.198001-198412.rsutcs.nc',\n",
       " '/archive/oar.gfdl.cmip6/ESM4/DECK/ESM4_historical_D1/gfdl.ncrc4-intel16-prod-openmp/pp/atmos_cmip/ts/monthly/5yr/atmos_cmip.198001-198412.sfcWind.nc',\n",
       " '/archive/oar.gfdl.cmip6/ESM4/DECK/ESM4_historical_D1/gfdl.ncrc4-intel16-prod-openmp/pp/atmos_cmip/ts/monthly/5yr/atmos_cmip.198001-198412.ta.nc',\n",
       " '/archive/oar.gfdl.cmip6/ESM4/DECK/ESM4_historical_D1/gfdl.ncrc4-intel16-prod-openmp/pp/atmos_cmip/ts/monthly/5yr/atmos_cmip.198001-198412.tas.nc',\n",
       " '/archive/oar.gfdl.cmip6/ESM4/DECK/ESM4_historical_D1/gfdl.ncrc4-intel16-prod-openmp/pp/atmos_cmip/ts/monthly/5yr/atmos_cmip.198001-198412.tauu.nc',\n",
       " '/archive/oar.gfdl.cmip6/ESM4/DECK/ESM4_historical_D1/gfdl.ncrc4-intel16-prod-openmp/pp/atmos_cmip/ts/monthly/5yr/atmos_cmip.198001-198412.tauv.nc',\n",
       " '/archive/oar.gfdl.cmip6/ESM4/DECK/ESM4_historical_D1/gfdl.ncrc4-intel16-prod-openmp/pp/atmos_cmip/ts/monthly/5yr/atmos_cmip.198001-198412.ua.nc',\n",
       " '/archive/oar.gfdl.cmip6/ESM4/DECK/ESM4_historical_D1/gfdl.ncrc4-intel16-prod-openmp/pp/atmos_cmip/ts/monthly/5yr/atmos_cmip.198001-198412.va.nc',\n",
       " '/archive/oar.gfdl.cmip6/ESM4/DECK/ESM4_historical_D1/gfdl.ncrc4-intel16-prod-openmp/pp/atmos_cmip/ts/monthly/5yr/atmos_cmip.198001-198412.zg.nc',\n",
       " '/archive/oar.gfdl.cmip6/ESM4/DECK/ESM4_historical_D1/gfdl.ncrc4-intel16-prod-openmp/pp/atmos_cmip/ts/monthly/5yr/atmos_cmip.198501-198912.pr.nc',\n",
       " '/archive/oar.gfdl.cmip6/ESM4/DECK/ESM4_historical_D1/gfdl.ncrc4-intel16-prod-openmp/pp/atmos_cmip/ts/monthly/5yr/atmos_cmip.198501-198912.prw.nc',\n",
       " '/archive/oar.gfdl.cmip6/ESM4/DECK/ESM4_historical_D1/gfdl.ncrc4-intel16-prod-openmp/pp/atmos_cmip/ts/monthly/5yr/atmos_cmip.198501-198912.psl.nc',\n",
       " '/archive/oar.gfdl.cmip6/ESM4/DECK/ESM4_historical_D1/gfdl.ncrc4-intel16-prod-openmp/pp/atmos_cmip/ts/monthly/5yr/atmos_cmip.198501-198912.rlds.nc',\n",
       " '/archive/oar.gfdl.cmip6/ESM4/DECK/ESM4_historical_D1/gfdl.ncrc4-intel16-prod-openmp/pp/atmos_cmip/ts/monthly/5yr/atmos_cmip.198501-198912.rlus.nc',\n",
       " '/archive/oar.gfdl.cmip6/ESM4/DECK/ESM4_historical_D1/gfdl.ncrc4-intel16-prod-openmp/pp/atmos_cmip/ts/monthly/5yr/atmos_cmip.198501-198912.rlut.nc',\n",
       " '/archive/oar.gfdl.cmip6/ESM4/DECK/ESM4_historical_D1/gfdl.ncrc4-intel16-prod-openmp/pp/atmos_cmip/ts/monthly/5yr/atmos_cmip.198501-198912.rlutcs.nc',\n",
       " '/archive/oar.gfdl.cmip6/ESM4/DECK/ESM4_historical_D1/gfdl.ncrc4-intel16-prod-openmp/pp/atmos_cmip/ts/monthly/5yr/atmos_cmip.198501-198912.rsds.nc',\n",
       " '/archive/oar.gfdl.cmip6/ESM4/DECK/ESM4_historical_D1/gfdl.ncrc4-intel16-prod-openmp/pp/atmos_cmip/ts/monthly/5yr/atmos_cmip.198501-198912.rsdscs.nc',\n",
       " '/archive/oar.gfdl.cmip6/ESM4/DECK/ESM4_historical_D1/gfdl.ncrc4-intel16-prod-openmp/pp/atmos_cmip/ts/monthly/5yr/atmos_cmip.198501-198912.rsdt.nc',\n",
       " '/archive/oar.gfdl.cmip6/ESM4/DECK/ESM4_historical_D1/gfdl.ncrc4-intel16-prod-openmp/pp/atmos_cmip/ts/monthly/5yr/atmos_cmip.198501-198912.rsus.nc',\n",
       " '/archive/oar.gfdl.cmip6/ESM4/DECK/ESM4_historical_D1/gfdl.ncrc4-intel16-prod-openmp/pp/atmos_cmip/ts/monthly/5yr/atmos_cmip.198501-198912.rsut.nc',\n",
       " '/archive/oar.gfdl.cmip6/ESM4/DECK/ESM4_historical_D1/gfdl.ncrc4-intel16-prod-openmp/pp/atmos_cmip/ts/monthly/5yr/atmos_cmip.198501-198912.rsutcs.nc',\n",
       " '/archive/oar.gfdl.cmip6/ESM4/DECK/ESM4_historical_D1/gfdl.ncrc4-intel16-prod-openmp/pp/atmos_cmip/ts/monthly/5yr/atmos_cmip.198501-198912.sfcWind.nc',\n",
       " '/archive/oar.gfdl.cmip6/ESM4/DECK/ESM4_historical_D1/gfdl.ncrc4-intel16-prod-openmp/pp/atmos_cmip/ts/monthly/5yr/atmos_cmip.198501-198912.ta.nc',\n",
       " '/archive/oar.gfdl.cmip6/ESM4/DECK/ESM4_historical_D1/gfdl.ncrc4-intel16-prod-openmp/pp/atmos_cmip/ts/monthly/5yr/atmos_cmip.198501-198912.tas.nc',\n",
       " '/archive/oar.gfdl.cmip6/ESM4/DECK/ESM4_historical_D1/gfdl.ncrc4-intel16-prod-openmp/pp/atmos_cmip/ts/monthly/5yr/atmos_cmip.198501-198912.tauu.nc',\n",
       " '/archive/oar.gfdl.cmip6/ESM4/DECK/ESM4_historical_D1/gfdl.ncrc4-intel16-prod-openmp/pp/atmos_cmip/ts/monthly/5yr/atmos_cmip.198501-198912.tauv.nc',\n",
       " '/archive/oar.gfdl.cmip6/ESM4/DECK/ESM4_historical_D1/gfdl.ncrc4-intel16-prod-openmp/pp/atmos_cmip/ts/monthly/5yr/atmos_cmip.198501-198912.ua.nc',\n",
       " '/archive/oar.gfdl.cmip6/ESM4/DECK/ESM4_historical_D1/gfdl.ncrc4-intel16-prod-openmp/pp/atmos_cmip/ts/monthly/5yr/atmos_cmip.198501-198912.va.nc',\n",
       " '/archive/oar.gfdl.cmip6/ESM4/DECK/ESM4_historical_D1/gfdl.ncrc4-intel16-prod-openmp/pp/atmos_cmip/ts/monthly/5yr/atmos_cmip.198501-198912.zg.nc',\n",
       " '/archive/oar.gfdl.cmip6/ESM4/DECK/ESM4_historical_D1/gfdl.ncrc4-intel16-prod-openmp/pp/atmos_cmip/ts/monthly/5yr/atmos_cmip.199001-199412.pr.nc',\n",
       " '/archive/oar.gfdl.cmip6/ESM4/DECK/ESM4_historical_D1/gfdl.ncrc4-intel16-prod-openmp/pp/atmos_cmip/ts/monthly/5yr/atmos_cmip.199001-199412.prw.nc',\n",
       " '/archive/oar.gfdl.cmip6/ESM4/DECK/ESM4_historical_D1/gfdl.ncrc4-intel16-prod-openmp/pp/atmos_cmip/ts/monthly/5yr/atmos_cmip.199001-199412.psl.nc',\n",
       " '/archive/oar.gfdl.cmip6/ESM4/DECK/ESM4_historical_D1/gfdl.ncrc4-intel16-prod-openmp/pp/atmos_cmip/ts/monthly/5yr/atmos_cmip.199001-199412.rlds.nc',\n",
       " '/archive/oar.gfdl.cmip6/ESM4/DECK/ESM4_historical_D1/gfdl.ncrc4-intel16-prod-openmp/pp/atmos_cmip/ts/monthly/5yr/atmos_cmip.199001-199412.rlus.nc',\n",
       " '/archive/oar.gfdl.cmip6/ESM4/DECK/ESM4_historical_D1/gfdl.ncrc4-intel16-prod-openmp/pp/atmos_cmip/ts/monthly/5yr/atmos_cmip.199001-199412.rlut.nc',\n",
       " '/archive/oar.gfdl.cmip6/ESM4/DECK/ESM4_historical_D1/gfdl.ncrc4-intel16-prod-openmp/pp/atmos_cmip/ts/monthly/5yr/atmos_cmip.199001-199412.rlutcs.nc',\n",
       " '/archive/oar.gfdl.cmip6/ESM4/DECK/ESM4_historical_D1/gfdl.ncrc4-intel16-prod-openmp/pp/atmos_cmip/ts/monthly/5yr/atmos_cmip.199001-199412.rsds.nc',\n",
       " '/archive/oar.gfdl.cmip6/ESM4/DECK/ESM4_historical_D1/gfdl.ncrc4-intel16-prod-openmp/pp/atmos_cmip/ts/monthly/5yr/atmos_cmip.199001-199412.rsdscs.nc',\n",
       " '/archive/oar.gfdl.cmip6/ESM4/DECK/ESM4_historical_D1/gfdl.ncrc4-intel16-prod-openmp/pp/atmos_cmip/ts/monthly/5yr/atmos_cmip.199001-199412.rsdt.nc',\n",
       " '/archive/oar.gfdl.cmip6/ESM4/DECK/ESM4_historical_D1/gfdl.ncrc4-intel16-prod-openmp/pp/atmos_cmip/ts/monthly/5yr/atmos_cmip.199001-199412.rsus.nc',\n",
       " '/archive/oar.gfdl.cmip6/ESM4/DECK/ESM4_historical_D1/gfdl.ncrc4-intel16-prod-openmp/pp/atmos_cmip/ts/monthly/5yr/atmos_cmip.199001-199412.rsut.nc',\n",
       " '/archive/oar.gfdl.cmip6/ESM4/DECK/ESM4_historical_D1/gfdl.ncrc4-intel16-prod-openmp/pp/atmos_cmip/ts/monthly/5yr/atmos_cmip.199001-199412.rsutcs.nc',\n",
       " '/archive/oar.gfdl.cmip6/ESM4/DECK/ESM4_historical_D1/gfdl.ncrc4-intel16-prod-openmp/pp/atmos_cmip/ts/monthly/5yr/atmos_cmip.199001-199412.sfcWind.nc',\n",
       " '/archive/oar.gfdl.cmip6/ESM4/DECK/ESM4_historical_D1/gfdl.ncrc4-intel16-prod-openmp/pp/atmos_cmip/ts/monthly/5yr/atmos_cmip.199001-199412.ta.nc',\n",
       " '/archive/oar.gfdl.cmip6/ESM4/DECK/ESM4_historical_D1/gfdl.ncrc4-intel16-prod-openmp/pp/atmos_cmip/ts/monthly/5yr/atmos_cmip.199001-199412.tas.nc',\n",
       " '/archive/oar.gfdl.cmip6/ESM4/DECK/ESM4_historical_D1/gfdl.ncrc4-intel16-prod-openmp/pp/atmos_cmip/ts/monthly/5yr/atmos_cmip.199001-199412.tauu.nc',\n",
       " '/archive/oar.gfdl.cmip6/ESM4/DECK/ESM4_historical_D1/gfdl.ncrc4-intel16-prod-openmp/pp/atmos_cmip/ts/monthly/5yr/atmos_cmip.199001-199412.tauv.nc',\n",
       " '/archive/oar.gfdl.cmip6/ESM4/DECK/ESM4_historical_D1/gfdl.ncrc4-intel16-prod-openmp/pp/atmos_cmip/ts/monthly/5yr/atmos_cmip.199001-199412.ua.nc',\n",
       " '/archive/oar.gfdl.cmip6/ESM4/DECK/ESM4_historical_D1/gfdl.ncrc4-intel16-prod-openmp/pp/atmos_cmip/ts/monthly/5yr/atmos_cmip.199001-199412.va.nc',\n",
       " '/archive/oar.gfdl.cmip6/ESM4/DECK/ESM4_historical_D1/gfdl.ncrc4-intel16-prod-openmp/pp/atmos_cmip/ts/monthly/5yr/atmos_cmip.199001-199412.zg.nc',\n",
       " '/archive/oar.gfdl.cmip6/ESM4/DECK/ESM4_historical_D1/gfdl.ncrc4-intel16-prod-openmp/pp/atmos_cmip/ts/monthly/5yr/atmos_cmip.199501-199912.pr.nc',\n",
       " '/archive/oar.gfdl.cmip6/ESM4/DECK/ESM4_historical_D1/gfdl.ncrc4-intel16-prod-openmp/pp/atmos_cmip/ts/monthly/5yr/atmos_cmip.199501-199912.prw.nc',\n",
       " '/archive/oar.gfdl.cmip6/ESM4/DECK/ESM4_historical_D1/gfdl.ncrc4-intel16-prod-openmp/pp/atmos_cmip/ts/monthly/5yr/atmos_cmip.199501-199912.psl.nc',\n",
       " '/archive/oar.gfdl.cmip6/ESM4/DECK/ESM4_historical_D1/gfdl.ncrc4-intel16-prod-openmp/pp/atmos_cmip/ts/monthly/5yr/atmos_cmip.199501-199912.rlds.nc',\n",
       " '/archive/oar.gfdl.cmip6/ESM4/DECK/ESM4_historical_D1/gfdl.ncrc4-intel16-prod-openmp/pp/atmos_cmip/ts/monthly/5yr/atmos_cmip.199501-199912.rlus.nc',\n",
       " '/archive/oar.gfdl.cmip6/ESM4/DECK/ESM4_historical_D1/gfdl.ncrc4-intel16-prod-openmp/pp/atmos_cmip/ts/monthly/5yr/atmos_cmip.199501-199912.rlut.nc',\n",
       " '/archive/oar.gfdl.cmip6/ESM4/DECK/ESM4_historical_D1/gfdl.ncrc4-intel16-prod-openmp/pp/atmos_cmip/ts/monthly/5yr/atmos_cmip.199501-199912.rlutcs.nc',\n",
       " '/archive/oar.gfdl.cmip6/ESM4/DECK/ESM4_historical_D1/gfdl.ncrc4-intel16-prod-openmp/pp/atmos_cmip/ts/monthly/5yr/atmos_cmip.199501-199912.rsds.nc',\n",
       " '/archive/oar.gfdl.cmip6/ESM4/DECK/ESM4_historical_D1/gfdl.ncrc4-intel16-prod-openmp/pp/atmos_cmip/ts/monthly/5yr/atmos_cmip.199501-199912.rsdscs.nc',\n",
       " '/archive/oar.gfdl.cmip6/ESM4/DECK/ESM4_historical_D1/gfdl.ncrc4-intel16-prod-openmp/pp/atmos_cmip/ts/monthly/5yr/atmos_cmip.199501-199912.rsdt.nc',\n",
       " '/archive/oar.gfdl.cmip6/ESM4/DECK/ESM4_historical_D1/gfdl.ncrc4-intel16-prod-openmp/pp/atmos_cmip/ts/monthly/5yr/atmos_cmip.199501-199912.rsus.nc',\n",
       " '/archive/oar.gfdl.cmip6/ESM4/DECK/ESM4_historical_D1/gfdl.ncrc4-intel16-prod-openmp/pp/atmos_cmip/ts/monthly/5yr/atmos_cmip.199501-199912.rsut.nc',\n",
       " '/archive/oar.gfdl.cmip6/ESM4/DECK/ESM4_historical_D1/gfdl.ncrc4-intel16-prod-openmp/pp/atmos_cmip/ts/monthly/5yr/atmos_cmip.199501-199912.rsutcs.nc',\n",
       " '/archive/oar.gfdl.cmip6/ESM4/DECK/ESM4_historical_D1/gfdl.ncrc4-intel16-prod-openmp/pp/atmos_cmip/ts/monthly/5yr/atmos_cmip.199501-199912.sfcWind.nc',\n",
       " '/archive/oar.gfdl.cmip6/ESM4/DECK/ESM4_historical_D1/gfdl.ncrc4-intel16-prod-openmp/pp/atmos_cmip/ts/monthly/5yr/atmos_cmip.199501-199912.ta.nc',\n",
       " '/archive/oar.gfdl.cmip6/ESM4/DECK/ESM4_historical_D1/gfdl.ncrc4-intel16-prod-openmp/pp/atmos_cmip/ts/monthly/5yr/atmos_cmip.199501-199912.tas.nc',\n",
       " '/archive/oar.gfdl.cmip6/ESM4/DECK/ESM4_historical_D1/gfdl.ncrc4-intel16-prod-openmp/pp/atmos_cmip/ts/monthly/5yr/atmos_cmip.199501-199912.tauu.nc',\n",
       " '/archive/oar.gfdl.cmip6/ESM4/DECK/ESM4_historical_D1/gfdl.ncrc4-intel16-prod-openmp/pp/atmos_cmip/ts/monthly/5yr/atmos_cmip.199501-199912.tauv.nc',\n",
       " '/archive/oar.gfdl.cmip6/ESM4/DECK/ESM4_historical_D1/gfdl.ncrc4-intel16-prod-openmp/pp/atmos_cmip/ts/monthly/5yr/atmos_cmip.199501-199912.ua.nc',\n",
       " '/archive/oar.gfdl.cmip6/ESM4/DECK/ESM4_historical_D1/gfdl.ncrc4-intel16-prod-openmp/pp/atmos_cmip/ts/monthly/5yr/atmos_cmip.199501-199912.va.nc',\n",
       " '/archive/oar.gfdl.cmip6/ESM4/DECK/ESM4_historical_D1/gfdl.ncrc4-intel16-prod-openmp/pp/atmos_cmip/ts/monthly/5yr/atmos_cmip.199501-199912.zg.nc',\n",
       " '/archive/oar.gfdl.cmip6/ESM4/DECK/ESM4_historical_D1/gfdl.ncrc4-intel16-prod-openmp/pp/atmos_cmip/ts/monthly/5yr/atmos_cmip.200001-200412.pr.nc',\n",
       " '/archive/oar.gfdl.cmip6/ESM4/DECK/ESM4_historical_D1/gfdl.ncrc4-intel16-prod-openmp/pp/atmos_cmip/ts/monthly/5yr/atmos_cmip.200001-200412.prw.nc',\n",
       " '/archive/oar.gfdl.cmip6/ESM4/DECK/ESM4_historical_D1/gfdl.ncrc4-intel16-prod-openmp/pp/atmos_cmip/ts/monthly/5yr/atmos_cmip.200001-200412.psl.nc',\n",
       " '/archive/oar.gfdl.cmip6/ESM4/DECK/ESM4_historical_D1/gfdl.ncrc4-intel16-prod-openmp/pp/atmos_cmip/ts/monthly/5yr/atmos_cmip.200001-200412.rlds.nc',\n",
       " '/archive/oar.gfdl.cmip6/ESM4/DECK/ESM4_historical_D1/gfdl.ncrc4-intel16-prod-openmp/pp/atmos_cmip/ts/monthly/5yr/atmos_cmip.200001-200412.rlus.nc',\n",
       " '/archive/oar.gfdl.cmip6/ESM4/DECK/ESM4_historical_D1/gfdl.ncrc4-intel16-prod-openmp/pp/atmos_cmip/ts/monthly/5yr/atmos_cmip.200001-200412.rlut.nc',\n",
       " '/archive/oar.gfdl.cmip6/ESM4/DECK/ESM4_historical_D1/gfdl.ncrc4-intel16-prod-openmp/pp/atmos_cmip/ts/monthly/5yr/atmos_cmip.200001-200412.rlutcs.nc',\n",
       " '/archive/oar.gfdl.cmip6/ESM4/DECK/ESM4_historical_D1/gfdl.ncrc4-intel16-prod-openmp/pp/atmos_cmip/ts/monthly/5yr/atmos_cmip.200001-200412.rsds.nc',\n",
       " '/archive/oar.gfdl.cmip6/ESM4/DECK/ESM4_historical_D1/gfdl.ncrc4-intel16-prod-openmp/pp/atmos_cmip/ts/monthly/5yr/atmos_cmip.200001-200412.rsdscs.nc',\n",
       " '/archive/oar.gfdl.cmip6/ESM4/DECK/ESM4_historical_D1/gfdl.ncrc4-intel16-prod-openmp/pp/atmos_cmip/ts/monthly/5yr/atmos_cmip.200001-200412.rsdt.nc',\n",
       " '/archive/oar.gfdl.cmip6/ESM4/DECK/ESM4_historical_D1/gfdl.ncrc4-intel16-prod-openmp/pp/atmos_cmip/ts/monthly/5yr/atmos_cmip.200001-200412.rsus.nc',\n",
       " '/archive/oar.gfdl.cmip6/ESM4/DECK/ESM4_historical_D1/gfdl.ncrc4-intel16-prod-openmp/pp/atmos_cmip/ts/monthly/5yr/atmos_cmip.200001-200412.rsut.nc',\n",
       " '/archive/oar.gfdl.cmip6/ESM4/DECK/ESM4_historical_D1/gfdl.ncrc4-intel16-prod-openmp/pp/atmos_cmip/ts/monthly/5yr/atmos_cmip.200001-200412.rsutcs.nc',\n",
       " '/archive/oar.gfdl.cmip6/ESM4/DECK/ESM4_historical_D1/gfdl.ncrc4-intel16-prod-openmp/pp/atmos_cmip/ts/monthly/5yr/atmos_cmip.200001-200412.sfcWind.nc',\n",
       " '/archive/oar.gfdl.cmip6/ESM4/DECK/ESM4_historical_D1/gfdl.ncrc4-intel16-prod-openmp/pp/atmos_cmip/ts/monthly/5yr/atmos_cmip.200001-200412.ta.nc',\n",
       " '/archive/oar.gfdl.cmip6/ESM4/DECK/ESM4_historical_D1/gfdl.ncrc4-intel16-prod-openmp/pp/atmos_cmip/ts/monthly/5yr/atmos_cmip.200001-200412.tas.nc',\n",
       " '/archive/oar.gfdl.cmip6/ESM4/DECK/ESM4_historical_D1/gfdl.ncrc4-intel16-prod-openmp/pp/atmos_cmip/ts/monthly/5yr/atmos_cmip.200001-200412.tauu.nc',\n",
       " '/archive/oar.gfdl.cmip6/ESM4/DECK/ESM4_historical_D1/gfdl.ncrc4-intel16-prod-openmp/pp/atmos_cmip/ts/monthly/5yr/atmos_cmip.200001-200412.tauv.nc',\n",
       " '/archive/oar.gfdl.cmip6/ESM4/DECK/ESM4_historical_D1/gfdl.ncrc4-intel16-prod-openmp/pp/atmos_cmip/ts/monthly/5yr/atmos_cmip.200001-200412.ua.nc',\n",
       " '/archive/oar.gfdl.cmip6/ESM4/DECK/ESM4_historical_D1/gfdl.ncrc4-intel16-prod-openmp/pp/atmos_cmip/ts/monthly/5yr/atmos_cmip.200001-200412.va.nc',\n",
       " '/archive/oar.gfdl.cmip6/ESM4/DECK/ESM4_historical_D1/gfdl.ncrc4-intel16-prod-openmp/pp/atmos_cmip/ts/monthly/5yr/atmos_cmip.200001-200412.zg.nc',\n",
       " '/archive/oar.gfdl.cmip6/ESM4/DECK/ESM4_historical_D1/gfdl.ncrc4-intel16-prod-openmp/pp/atmos_cmip/ts/monthly/5yr/atmos_cmip.200501-200912.pr.nc',\n",
       " '/archive/oar.gfdl.cmip6/ESM4/DECK/ESM4_historical_D1/gfdl.ncrc4-intel16-prod-openmp/pp/atmos_cmip/ts/monthly/5yr/atmos_cmip.200501-200912.prw.nc',\n",
       " '/archive/oar.gfdl.cmip6/ESM4/DECK/ESM4_historical_D1/gfdl.ncrc4-intel16-prod-openmp/pp/atmos_cmip/ts/monthly/5yr/atmos_cmip.200501-200912.psl.nc',\n",
       " '/archive/oar.gfdl.cmip6/ESM4/DECK/ESM4_historical_D1/gfdl.ncrc4-intel16-prod-openmp/pp/atmos_cmip/ts/monthly/5yr/atmos_cmip.200501-200912.rlds.nc',\n",
       " '/archive/oar.gfdl.cmip6/ESM4/DECK/ESM4_historical_D1/gfdl.ncrc4-intel16-prod-openmp/pp/atmos_cmip/ts/monthly/5yr/atmos_cmip.200501-200912.rlus.nc',\n",
       " '/archive/oar.gfdl.cmip6/ESM4/DECK/ESM4_historical_D1/gfdl.ncrc4-intel16-prod-openmp/pp/atmos_cmip/ts/monthly/5yr/atmos_cmip.200501-200912.rlut.nc',\n",
       " '/archive/oar.gfdl.cmip6/ESM4/DECK/ESM4_historical_D1/gfdl.ncrc4-intel16-prod-openmp/pp/atmos_cmip/ts/monthly/5yr/atmos_cmip.200501-200912.rlutcs.nc',\n",
       " '/archive/oar.gfdl.cmip6/ESM4/DECK/ESM4_historical_D1/gfdl.ncrc4-intel16-prod-openmp/pp/atmos_cmip/ts/monthly/5yr/atmos_cmip.200501-200912.rsds.nc',\n",
       " '/archive/oar.gfdl.cmip6/ESM4/DECK/ESM4_historical_D1/gfdl.ncrc4-intel16-prod-openmp/pp/atmos_cmip/ts/monthly/5yr/atmos_cmip.200501-200912.rsdscs.nc',\n",
       " '/archive/oar.gfdl.cmip6/ESM4/DECK/ESM4_historical_D1/gfdl.ncrc4-intel16-prod-openmp/pp/atmos_cmip/ts/monthly/5yr/atmos_cmip.200501-200912.rsdt.nc',\n",
       " '/archive/oar.gfdl.cmip6/ESM4/DECK/ESM4_historical_D1/gfdl.ncrc4-intel16-prod-openmp/pp/atmos_cmip/ts/monthly/5yr/atmos_cmip.200501-200912.rsus.nc',\n",
       " '/archive/oar.gfdl.cmip6/ESM4/DECK/ESM4_historical_D1/gfdl.ncrc4-intel16-prod-openmp/pp/atmos_cmip/ts/monthly/5yr/atmos_cmip.200501-200912.rsut.nc',\n",
       " '/archive/oar.gfdl.cmip6/ESM4/DECK/ESM4_historical_D1/gfdl.ncrc4-intel16-prod-openmp/pp/atmos_cmip/ts/monthly/5yr/atmos_cmip.200501-200912.rsutcs.nc',\n",
       " '/archive/oar.gfdl.cmip6/ESM4/DECK/ESM4_historical_D1/gfdl.ncrc4-intel16-prod-openmp/pp/atmos_cmip/ts/monthly/5yr/atmos_cmip.200501-200912.sfcWind.nc',\n",
       " '/archive/oar.gfdl.cmip6/ESM4/DECK/ESM4_historical_D1/gfdl.ncrc4-intel16-prod-openmp/pp/atmos_cmip/ts/monthly/5yr/atmos_cmip.200501-200912.ta.nc',\n",
       " '/archive/oar.gfdl.cmip6/ESM4/DECK/ESM4_historical_D1/gfdl.ncrc4-intel16-prod-openmp/pp/atmos_cmip/ts/monthly/5yr/atmos_cmip.200501-200912.tas.nc',\n",
       " '/archive/oar.gfdl.cmip6/ESM4/DECK/ESM4_historical_D1/gfdl.ncrc4-intel16-prod-openmp/pp/atmos_cmip/ts/monthly/5yr/atmos_cmip.200501-200912.tauu.nc',\n",
       " '/archive/oar.gfdl.cmip6/ESM4/DECK/ESM4_historical_D1/gfdl.ncrc4-intel16-prod-openmp/pp/atmos_cmip/ts/monthly/5yr/atmos_cmip.200501-200912.tauv.nc',\n",
       " '/archive/oar.gfdl.cmip6/ESM4/DECK/ESM4_historical_D1/gfdl.ncrc4-intel16-prod-openmp/pp/atmos_cmip/ts/monthly/5yr/atmos_cmip.200501-200912.ua.nc',\n",
       " '/archive/oar.gfdl.cmip6/ESM4/DECK/ESM4_historical_D1/gfdl.ncrc4-intel16-prod-openmp/pp/atmos_cmip/ts/monthly/5yr/atmos_cmip.200501-200912.va.nc',\n",
       " '/archive/oar.gfdl.cmip6/ESM4/DECK/ESM4_historical_D1/gfdl.ncrc4-intel16-prod-openmp/pp/atmos_cmip/ts/monthly/5yr/atmos_cmip.200501-200912.zg.nc',\n",
       " '/archive/oar.gfdl.cmip6/ESM4/DECK/ESM4_historical_D1/gfdl.ncrc4-intel16-prod-openmp/pp/atmos_cmip/ts/monthly/5yr/atmos_cmip.201001-201412.pr.nc',\n",
       " '/archive/oar.gfdl.cmip6/ESM4/DECK/ESM4_historical_D1/gfdl.ncrc4-intel16-prod-openmp/pp/atmos_cmip/ts/monthly/5yr/atmos_cmip.201001-201412.prw.nc',\n",
       " '/archive/oar.gfdl.cmip6/ESM4/DECK/ESM4_historical_D1/gfdl.ncrc4-intel16-prod-openmp/pp/atmos_cmip/ts/monthly/5yr/atmos_cmip.201001-201412.psl.nc',\n",
       " '/archive/oar.gfdl.cmip6/ESM4/DECK/ESM4_historical_D1/gfdl.ncrc4-intel16-prod-openmp/pp/atmos_cmip/ts/monthly/5yr/atmos_cmip.201001-201412.rlds.nc',\n",
       " '/archive/oar.gfdl.cmip6/ESM4/DECK/ESM4_historical_D1/gfdl.ncrc4-intel16-prod-openmp/pp/atmos_cmip/ts/monthly/5yr/atmos_cmip.201001-201412.rlus.nc',\n",
       " '/archive/oar.gfdl.cmip6/ESM4/DECK/ESM4_historical_D1/gfdl.ncrc4-intel16-prod-openmp/pp/atmos_cmip/ts/monthly/5yr/atmos_cmip.201001-201412.rlut.nc',\n",
       " '/archive/oar.gfdl.cmip6/ESM4/DECK/ESM4_historical_D1/gfdl.ncrc4-intel16-prod-openmp/pp/atmos_cmip/ts/monthly/5yr/atmos_cmip.201001-201412.rlutcs.nc',\n",
       " '/archive/oar.gfdl.cmip6/ESM4/DECK/ESM4_historical_D1/gfdl.ncrc4-intel16-prod-openmp/pp/atmos_cmip/ts/monthly/5yr/atmos_cmip.201001-201412.rsds.nc',\n",
       " '/archive/oar.gfdl.cmip6/ESM4/DECK/ESM4_historical_D1/gfdl.ncrc4-intel16-prod-openmp/pp/atmos_cmip/ts/monthly/5yr/atmos_cmip.201001-201412.rsdscs.nc',\n",
       " '/archive/oar.gfdl.cmip6/ESM4/DECK/ESM4_historical_D1/gfdl.ncrc4-intel16-prod-openmp/pp/atmos_cmip/ts/monthly/5yr/atmos_cmip.201001-201412.rsdt.nc',\n",
       " '/archive/oar.gfdl.cmip6/ESM4/DECK/ESM4_historical_D1/gfdl.ncrc4-intel16-prod-openmp/pp/atmos_cmip/ts/monthly/5yr/atmos_cmip.201001-201412.rsus.nc',\n",
       " '/archive/oar.gfdl.cmip6/ESM4/DECK/ESM4_historical_D1/gfdl.ncrc4-intel16-prod-openmp/pp/atmos_cmip/ts/monthly/5yr/atmos_cmip.201001-201412.rsut.nc',\n",
       " '/archive/oar.gfdl.cmip6/ESM4/DECK/ESM4_historical_D1/gfdl.ncrc4-intel16-prod-openmp/pp/atmos_cmip/ts/monthly/5yr/atmos_cmip.201001-201412.rsutcs.nc',\n",
       " '/archive/oar.gfdl.cmip6/ESM4/DECK/ESM4_historical_D1/gfdl.ncrc4-intel16-prod-openmp/pp/atmos_cmip/ts/monthly/5yr/atmos_cmip.201001-201412.sfcWind.nc',\n",
       " '/archive/oar.gfdl.cmip6/ESM4/DECK/ESM4_historical_D1/gfdl.ncrc4-intel16-prod-openmp/pp/atmos_cmip/ts/monthly/5yr/atmos_cmip.201001-201412.ta.nc',\n",
       " '/archive/oar.gfdl.cmip6/ESM4/DECK/ESM4_historical_D1/gfdl.ncrc4-intel16-prod-openmp/pp/atmos_cmip/ts/monthly/5yr/atmos_cmip.201001-201412.tas.nc',\n",
       " '/archive/oar.gfdl.cmip6/ESM4/DECK/ESM4_historical_D1/gfdl.ncrc4-intel16-prod-openmp/pp/atmos_cmip/ts/monthly/5yr/atmos_cmip.201001-201412.tauu.nc',\n",
       " '/archive/oar.gfdl.cmip6/ESM4/DECK/ESM4_historical_D1/gfdl.ncrc4-intel16-prod-openmp/pp/atmos_cmip/ts/monthly/5yr/atmos_cmip.201001-201412.tauv.nc',\n",
       " '/archive/oar.gfdl.cmip6/ESM4/DECK/ESM4_historical_D1/gfdl.ncrc4-intel16-prod-openmp/pp/atmos_cmip/ts/monthly/5yr/atmos_cmip.201001-201412.ua.nc',\n",
       " '/archive/oar.gfdl.cmip6/ESM4/DECK/ESM4_historical_D1/gfdl.ncrc4-intel16-prod-openmp/pp/atmos_cmip/ts/monthly/5yr/atmos_cmip.201001-201412.va.nc',\n",
       " '/archive/oar.gfdl.cmip6/ESM4/DECK/ESM4_historical_D1/gfdl.ncrc4-intel16-prod-openmp/pp/atmos_cmip/ts/monthly/5yr/atmos_cmip.201001-201412.zg.nc']"
      ]
     },
     "execution_count": 116,
     "metadata": {},
     "output_type": "execute_result"
    }
   ],
   "source": [
    "files"
   ]
  },
  {
   "cell_type": "code",
   "execution_count": 117,
   "id": "27f843c8-5c13-4831-ab3b-b5b690867133",
   "metadata": {},
   "outputs": [],
   "source": [
    "# subprocess call to \"dmget\" the files from archive\n",
    "_ = subprocess.check_call([\"dmget\"] + files)"
   ]
  },
  {
   "cell_type": "markdown",
   "id": "3025747d-798b-47a0-92d2-8e3b7eaab1c9",
   "metadata": {},
   "source": [
    "## Aggregate the files into a single xarray DataSet"
   ]
  },
  {
   "cell_type": "markdown",
   "id": "0235c44a-f523-429c-992e-28c44c1bf7c7",
   "metadata": {},
   "source": [
    "This code aggregates the files and subsets the data based on the year ranges defined by `yr1` and `yr2`.  The median year is identified and the time axis is saved for later use. A string is also established with the date ranges that are being analyzed"
   ]
  },
  {
   "cell_type": "code",
   "execution_count": 118,
   "id": "52d011ab-4376-4638-8ff9-a951136409c2",
   "metadata": {},
   "outputs": [],
   "source": [
    "# load all variables into an xarray dataset and subset in time\n",
    "dset_in = xr.open_mfdataset(files, use_cftime=True, compat=\"override\", coords=\"all\")\n",
    "\n",
    "# subset in time\n",
    "_yr1 = f\"{yr1}-01-01\" if yr1 is not None else None\n",
    "_yr2 = f\"{yr2}-12-31\" if yr2 is not None else None\n",
    "\n",
    "dset_in = dset_in.sel({tcoord: slice(_yr1, _yr2)})"
   ]
  },
  {
   "cell_type": "code",
   "execution_count": 119,
   "id": "bdabeece-a03e-4fdd-8352-a699515a6469",
   "metadata": {},
   "outputs": [],
   "source": [
    "# find median year and save time axis\n",
    "median_year = str(int(dset_in[tcoord].dt.year.median())).zfill(4)\n",
    "tax = dset_in[tcoord].sel({tcoord:slice(f\"{median_year}-01-01\", f\"{median_year}-12-31\")})"
   ]
  },
  {
   "cell_type": "code",
   "execution_count": 120,
   "id": "42408545-2f74-4fac-a2b5-d2d5dceee1a6",
   "metadata": {},
   "outputs": [],
   "source": [
    "# determine time range of the data and generate a string\n",
    "timerange = (\n",
    "    dset_in[tcoord].values[0].strftime(\"%Y%m\")\n",
    "    + \"-\"\n",
    "    + dset_in[tcoord].values[-1].strftime(\"%Y%m\")\n",
    ")"
   ]
  },
  {
   "cell_type": "markdown",
   "id": "a4e31bfd-a71d-4b2a-afec-3b336d5b41cf",
   "metadata": {},
   "source": [
    "## Cross reference variables lists and rename variables"
   ]
  },
  {
   "cell_type": "code",
   "execution_count": 121,
   "id": "b29caa45-3926-4abb-a5b7-76d4e7952662",
   "metadata": {},
   "outputs": [],
   "source": [
    "# cross reference full GFDL variable mapping against\n",
    "# the contents of the actual dataset\n",
    "varmap = {k: v for k, v in varmap.items() if v in dset_in.keys()}\n",
    "\n",
    "# rename variables with their CMOR names\n",
    "dset_in = dset_in.rename({v:k for k,v in varmap.items()})"
   ]
  },
  {
   "cell_type": "markdown",
   "id": "2e55eee9-f8a8-4957-b66d-a4801afac327",
   "metadata": {},
   "source": [
    "## Calculate the climatologies"
   ]
  },
  {
   "cell_type": "code",
   "execution_count": 122,
   "id": "9ccb2674-174e-4f5f-99c4-71f61a45c4ed",
   "metadata": {},
   "outputs": [
    {
     "name": "stderr",
     "output_type": "stream",
     "text": [
      "/home/mdteam/pcmdi_metrics/v2.2.2/env/lib/python3.9/site-packages/numpy/core/_methods.py:179: RuntimeWarning: invalid value encountered in reduce\n",
      "  ret = umr_sum(arr, axis, dtype, out, keepdims, where=where)\n",
      "/home/mdteam/pcmdi_metrics/v2.2.2/env/lib/python3.9/site-packages/numpy/core/_methods.py:179: RuntimeWarning: invalid value encountered in reduce\n",
      "  ret = umr_sum(arr, axis, dtype, out, keepdims, where=where)\n",
      "/home/mdteam/pcmdi_metrics/v2.2.2/env/lib/python3.9/site-packages/numpy/core/_methods.py:179: RuntimeWarning: invalid value encountered in reduce\n",
      "  ret = umr_sum(arr, axis, dtype, out, keepdims, where=where)\n",
      "/home/mdteam/pcmdi_metrics/v2.2.2/env/lib/python3.9/site-packages/numpy/core/_methods.py:179: RuntimeWarning: invalid value encountered in reduce\n",
      "  ret = umr_sum(arr, axis, dtype, out, keepdims, where=where)\n",
      "/home/mdteam/pcmdi_metrics/v2.2.2/env/lib/python3.9/site-packages/numpy/core/_methods.py:179: RuntimeWarning: invalid value encountered in reduce\n",
      "  ret = umr_sum(arr, axis, dtype, out, keepdims, where=where)\n",
      "/home/mdteam/pcmdi_metrics/v2.2.2/env/lib/python3.9/site-packages/numpy/core/_methods.py:179: RuntimeWarning: invalid value encountered in reduce\n",
      "  ret = umr_sum(arr, axis, dtype, out, keepdims, where=where)\n",
      "/home/mdteam/pcmdi_metrics/v2.2.2/env/lib/python3.9/site-packages/numpy/core/_methods.py:179: RuntimeWarning: invalid value encountered in reduce\n",
      "  ret = umr_sum(arr, axis, dtype, out, keepdims, where=where)\n",
      "/home/mdteam/pcmdi_metrics/v2.2.2/env/lib/python3.9/site-packages/numpy/core/_methods.py:179: RuntimeWarning: invalid value encountered in reduce\n",
      "  ret = umr_sum(arr, axis, dtype, out, keepdims, where=where)\n",
      "/home/mdteam/pcmdi_metrics/v2.2.2/env/lib/python3.9/site-packages/numpy/core/_methods.py:179: RuntimeWarning: invalid value encountered in reduce\n",
      "  ret = umr_sum(arr, axis, dtype, out, keepdims, where=where)\n",
      "/home/mdteam/pcmdi_metrics/v2.2.2/env/lib/python3.9/site-packages/numpy/core/_methods.py:179: RuntimeWarning: invalid value encountered in reduce\n",
      "  ret = umr_sum(arr, axis, dtype, out, keepdims, where=where)\n",
      "/home/mdteam/pcmdi_metrics/v2.2.2/env/lib/python3.9/site-packages/numpy/core/_methods.py:179: RuntimeWarning: invalid value encountered in reduce\n",
      "  ret = umr_sum(arr, axis, dtype, out, keepdims, where=where)\n",
      "/home/mdteam/pcmdi_metrics/v2.2.2/env/lib/python3.9/site-packages/numpy/core/_methods.py:179: RuntimeWarning: invalid value encountered in reduce\n",
      "  ret = umr_sum(arr, axis, dtype, out, keepdims, where=where)\n",
      "/home/mdteam/pcmdi_metrics/v2.2.2/env/lib/python3.9/site-packages/numpy/core/_methods.py:179: RuntimeWarning: invalid value encountered in reduce\n",
      "  ret = umr_sum(arr, axis, dtype, out, keepdims, where=where)\n",
      "/home/mdteam/pcmdi_metrics/v2.2.2/env/lib/python3.9/site-packages/numpy/core/_methods.py:179: RuntimeWarning: invalid value encountered in reduce\n",
      "  ret = umr_sum(arr, axis, dtype, out, keepdims, where=where)\n",
      "/home/mdteam/pcmdi_metrics/v2.2.2/env/lib/python3.9/site-packages/numpy/core/_methods.py:179: RuntimeWarning: invalid value encountered in reduce\n",
      "  ret = umr_sum(arr, axis, dtype, out, keepdims, where=where)\n",
      "/home/mdteam/pcmdi_metrics/v2.2.2/env/lib/python3.9/site-packages/numpy/core/_methods.py:179: RuntimeWarning: invalid value encountered in reduce\n",
      "  ret = umr_sum(arr, axis, dtype, out, keepdims, where=where)\n",
      "/home/mdteam/pcmdi_metrics/v2.2.2/env/lib/python3.9/site-packages/numpy/core/_methods.py:179: RuntimeWarning: invalid value encountered in reduce\n",
      "  ret = umr_sum(arr, axis, dtype, out, keepdims, where=where)\n",
      "/home/mdteam/pcmdi_metrics/v2.2.2/env/lib/python3.9/site-packages/numpy/core/_methods.py:179: RuntimeWarning: invalid value encountered in reduce\n",
      "  ret = umr_sum(arr, axis, dtype, out, keepdims, where=where)\n",
      "/home/mdteam/pcmdi_metrics/v2.2.2/env/lib/python3.9/site-packages/numpy/core/_methods.py:179: RuntimeWarning: invalid value encountered in reduce\n",
      "  ret = umr_sum(arr, axis, dtype, out, keepdims, where=where)\n",
      "/home/mdteam/pcmdi_metrics/v2.2.2/env/lib/python3.9/site-packages/numpy/core/_methods.py:179: RuntimeWarning: invalid value encountered in reduce\n",
      "  ret = umr_sum(arr, axis, dtype, out, keepdims, where=where)\n",
      "/home/mdteam/pcmdi_metrics/v2.2.2/env/lib/python3.9/site-packages/numpy/core/_methods.py:179: RuntimeWarning: invalid value encountered in reduce\n",
      "  ret = umr_sum(arr, axis, dtype, out, keepdims, where=where)\n",
      "/home/mdteam/pcmdi_metrics/v2.2.2/env/lib/python3.9/site-packages/numpy/core/_methods.py:179: RuntimeWarning: invalid value encountered in reduce\n",
      "  ret = umr_sum(arr, axis, dtype, out, keepdims, where=where)\n",
      "/home/mdteam/pcmdi_metrics/v2.2.2/env/lib/python3.9/site-packages/numpy/core/_methods.py:179: RuntimeWarning: invalid value encountered in reduce\n",
      "  ret = umr_sum(arr, axis, dtype, out, keepdims, where=where)\n"
     ]
    }
   ],
   "source": [
    "# create annual cycle climatologies\n",
    "dset = dset_in.groupby(f\"{tcoord}.month\").mean(tcoord)\n",
    "\n",
    "# rename the time coordinate back to its original value\n",
    "dset = dset.rename({\"month\":tcoord})\n",
    "\n",
    "# reassign the median year time axis that we saved earlier\n",
    "dset = dset.assign_coords({tcoord:tax})"
   ]
  },
  {
   "cell_type": "markdown",
   "id": "9252ab14-121e-437c-918d-54ed2a09380c",
   "metadata": {},
   "source": [
    "## Save the climatologies to NetCDF files"
   ]
  },
  {
   "cell_type": "code",
   "execution_count": 123,
   "id": "40ba0bd9-f81b-4871-8273-501974333893",
   "metadata": {},
   "outputs": [],
   "source": [
    "# output directory for the climatology files\n",
    "climdir = f\"{outdir}/clims\"\n",
    "_ = os.makedirs(climdir, exist_ok=True)\n",
    "\n",
    "\n",
    "# today's datestamp string to use as version number\n",
    "datestamp = datetime.datetime.now().strftime(\"%Y%m%d\")"
   ]
  },
  {
   "cell_type": "code",
   "execution_count": 124,
   "id": "75792020-b6e3-4496-b7f5-7cfecbd88fd1",
   "metadata": {},
   "outputs": [],
   "source": [
    "# list of GFDL-specific post-processing varaibles that are not used by PMP\n",
    "gfdl_exclusion_list = [\"average_DT\", \"average_T1\", \"average_T2\", \"lat_bnds\", \"lon_bnds\"]\n",
    "\n",
    "# retain relevant variables for processing\n",
    "varlist = sorted([x for x in dset.keys() if x not in gfdl_exclusion_list])"
   ]
  },
  {
   "cell_type": "markdown",
   "id": "d2caf9b3-d49e-4c86-9e75-3f4846f484c1",
   "metadata": {},
   "source": [
    "Here we loop over the variables to save their AC climatologies into separate NetCDF files. Lat/lon bounds are included along with additional attributes to aid the PMP's regridder. The variable's original attributes are reunited with the climatology.  Any NaN's are removed from `_FillValue` attributes before saving to the file."
   ]
  },
  {
   "cell_type": "code",
   "execution_count": 125,
   "id": "be19fcee-4e68-49c1-b4e2-81731b9113db",
   "metadata": {},
   "outputs": [
    {
     "name": "stdout",
     "output_type": "stream",
     "text": [
      "/vftmp/John.Krasting/pmp_results_ESM4_historical/clims/gfdl.experiment.ESM4_historical.r1i1p1.mon.pr.197901-201412.AC.v20240317.nc\n",
      "/vftmp/John.Krasting/pmp_results_ESM4_historical/clims/gfdl.experiment.ESM4_historical.r1i1p1.mon.prw.197901-201412.AC.v20240317.nc\n",
      "/vftmp/John.Krasting/pmp_results_ESM4_historical/clims/gfdl.experiment.ESM4_historical.r1i1p1.mon.psl.197901-201412.AC.v20240317.nc\n",
      "/vftmp/John.Krasting/pmp_results_ESM4_historical/clims/gfdl.experiment.ESM4_historical.r1i1p1.mon.rlds.197901-201412.AC.v20240317.nc\n",
      "/vftmp/John.Krasting/pmp_results_ESM4_historical/clims/gfdl.experiment.ESM4_historical.r1i1p1.mon.rlus.197901-201412.AC.v20240317.nc\n",
      "/vftmp/John.Krasting/pmp_results_ESM4_historical/clims/gfdl.experiment.ESM4_historical.r1i1p1.mon.rlut.197901-201412.AC.v20240317.nc\n",
      "/vftmp/John.Krasting/pmp_results_ESM4_historical/clims/gfdl.experiment.ESM4_historical.r1i1p1.mon.rlutcs.197901-201412.AC.v20240317.nc\n",
      "/vftmp/John.Krasting/pmp_results_ESM4_historical/clims/gfdl.experiment.ESM4_historical.r1i1p1.mon.rsds.197901-201412.AC.v20240317.nc\n",
      "/vftmp/John.Krasting/pmp_results_ESM4_historical/clims/gfdl.experiment.ESM4_historical.r1i1p1.mon.rsdscs.197901-201412.AC.v20240317.nc\n",
      "/vftmp/John.Krasting/pmp_results_ESM4_historical/clims/gfdl.experiment.ESM4_historical.r1i1p1.mon.rsdt.197901-201412.AC.v20240317.nc\n",
      "/vftmp/John.Krasting/pmp_results_ESM4_historical/clims/gfdl.experiment.ESM4_historical.r1i1p1.mon.rsus.197901-201412.AC.v20240317.nc\n",
      "/vftmp/John.Krasting/pmp_results_ESM4_historical/clims/gfdl.experiment.ESM4_historical.r1i1p1.mon.rsut.197901-201412.AC.v20240317.nc\n",
      "/vftmp/John.Krasting/pmp_results_ESM4_historical/clims/gfdl.experiment.ESM4_historical.r1i1p1.mon.rsutcs.197901-201412.AC.v20240317.nc\n",
      "/vftmp/John.Krasting/pmp_results_ESM4_historical/clims/gfdl.experiment.ESM4_historical.r1i1p1.mon.sfcWind.197901-201412.AC.v20240317.nc\n",
      "/vftmp/John.Krasting/pmp_results_ESM4_historical/clims/gfdl.experiment.ESM4_historical.r1i1p1.mon.ta.197901-201412.AC.v20240317.nc\n",
      "/vftmp/John.Krasting/pmp_results_ESM4_historical/clims/gfdl.experiment.ESM4_historical.r1i1p1.mon.tas.197901-201412.AC.v20240317.nc\n",
      "/vftmp/John.Krasting/pmp_results_ESM4_historical/clims/gfdl.experiment.ESM4_historical.r1i1p1.mon.tauu.197901-201412.AC.v20240317.nc\n",
      "/vftmp/John.Krasting/pmp_results_ESM4_historical/clims/gfdl.experiment.ESM4_historical.r1i1p1.mon.tauv.197901-201412.AC.v20240317.nc\n",
      "/vftmp/John.Krasting/pmp_results_ESM4_historical/clims/gfdl.experiment.ESM4_historical.r1i1p1.mon.ua.197901-201412.AC.v20240317.nc\n",
      "/vftmp/John.Krasting/pmp_results_ESM4_historical/clims/gfdl.experiment.ESM4_historical.r1i1p1.mon.va.197901-201412.AC.v20240317.nc\n",
      "/vftmp/John.Krasting/pmp_results_ESM4_historical/clims/gfdl.experiment.ESM4_historical.r1i1p1.mon.zg.197901-201412.AC.v20240317.nc\n"
     ]
    }
   ],
   "source": [
    "for var in varlist:\n",
    "    \n",
    "    # construct output filename\n",
    "    ncfile = f\"{climdir}/gfdl.experiment.{descriptor}.r1i1p1.mon.{var}.{timerange}.AC.v{datestamp}.nc\"\n",
    "    print(ncfile)\n",
    "    \n",
    "    # establish a new xarray.DataSet for the variable and horizontal bounds\n",
    "    _dset = xr.Dataset(\n",
    "        {var: dset[var], \"lat_bnds\": dset[\"lat_bnds\"], \"lon_bnds\": dset[\"lon_bnds\"]}\n",
    "    )\n",
    "    \n",
    "    # rename the bounds dimension\n",
    "    _dset = _dset.rename({\"bnds\": \"bound\"})\n",
    "\n",
    "    # cleanup the latitude and longitude attributes\n",
    "    _dset[\"lat\"].attrs[\"units\"] = \"degrees_north\"\n",
    "    _dset[\"lat\"].attrs[\"standard_name\"] = \"latitude\"\n",
    "    _dset[\"lat\"].attrs[\"realtopology\"] = \"linear\"\n",
    "\n",
    "    _dset[\"lon\"].attrs[\"units\"] = \"degrees_east\"\n",
    "    _dset[\"lon\"].attrs[\"standard_name\"] = \"longitude\"\n",
    "    _dset[\"lon\"].attrs[\"realtopology\"] = \"circular\"\n",
    "    _dset[\"lon\"].attrs[\"modulo\"] = 360.0\n",
    "\n",
    "    # copy original variable attributes to the climatology\n",
    "    _dset[var].attrs = dset_in[var].attrs\n",
    "\n",
    "    # remove time bounds attribute (xarray will handle adding the correct bounds, if needed)\n",
    "    del _dset[\"time\"].attrs[\"bounds\"]\n",
    "\n",
    "    # set variable's _FillValue and remove all other _FillValues\n",
    "    for _var in _dset.variables:\n",
    "        fillvalue = -999.0 if _var == var else None\n",
    "        _dset[_var].encoding = {\"_FillValue\": fillvalue}\n",
    "\n",
    "    # save to NetCDF file\n",
    "    _dset.to_netcdf(ncfile)"
   ]
  },
  {
   "cell_type": "markdown",
   "id": "d8b711af-0218-4ead-8ceb-ecd2caa409c8",
   "metadata": {},
   "source": [
    "# Setup the PMP parameter file and invoke the `mean_climate_driver`"
   ]
  },
  {
   "cell_type": "code",
   "execution_count": 126,
   "id": "621644e8-0e77-4f4b-8079-ea125f842bb4",
   "metadata": {},
   "outputs": [],
   "source": [
    "vars_4d = {\n",
    "    \"ta\": [\"_850\", \"_200\"],\n",
    "    \"ua\": [\"_850\", \"_200\"],\n",
    "    \"va\": [\"_850\", \"_200\"],\n",
    "    \"zg\": [\"_500\"],\n",
    "}\n",
    "\n",
    "modified_4d_varnames = []\n",
    "for var in vars_4d.keys():\n",
    "    if var in varlist:\n",
    "        varlist.remove(var)\n",
    "        for level in vars_4d[var]:\n",
    "            modified_4d_varnames.append(var+level)\n",
    "\n",
    "varlist = sorted(varlist + modified_4d_varnames)"
   ]
  },
  {
   "cell_type": "code",
   "execution_count": 127,
   "id": "1eaaf0c2-2350-453b-a51b-d256e280816d",
   "metadata": {},
   "outputs": [],
   "source": [
    "# construct a dictionary of PMP parameters\n",
    "parameters = {\n",
    "    \"case_id\": \"metrics\",\n",
    "    \"test_data_set\": [descriptor],\n",
    "    \"vars\": varlist,\n",
    "    \"reference_data_set\": [\"all\"],\n",
    "    \"target_grid\": \"2.5x2.5\",\n",
    "    \"regrid_tool\": \"regrid2\",\n",
    "    \"regrid_method\": \"linear\",\n",
    "    \"regrid_tool_ocn\": \"esmf\",\n",
    "    \"regrid_method_ocn\": \"linear\",\n",
    "    \"filename_template\": f\"gfdl.experiment.%(model_version).r1i1p1.mon.%(variable).{timerange}.AC.v{datestamp}.nc\",\n",
    "    \"sftlf_filename_template\": \"sftlf_%(model_version).nc\",\n",
    "    \"generate_sftlf\": True,\n",
    "    \"regions\": {\"rlut\": [\"Global\"]},\n",
    "    \"test_data_path\": climdir,\n",
    "    \"reference_data_path\": f\"{pmp_data_root}/obs_clim/v20210804/\",\n",
    "    \"metrics_output_path\": f\"{outdir}/results/\",\n",
    "}\n",
    "\n",
    "# save the parameters to a .py file (would be cleaner to somehow invoke PMP directly)\n",
    "with open(\"param.py\", \"w\") as f:\n",
    "    for k, v in parameters.items():\n",
    "        if isinstance(v, str):\n",
    "            f.write(f\"{k} = '{v}'\\n\")\n",
    "        else:\n",
    "            f.write(f\"{k} = {v}\\n\")\n",
    "\n",
    "f.close()"
   ]
  },
  {
   "cell_type": "markdown",
   "id": "b792be47-a2e4-4eb0-b207-58842d123c5e",
   "metadata": {},
   "source": [
    "# Run the PMP"
   ]
  },
  {
   "cell_type": "code",
   "execution_count": null,
   "id": "c3a9923a-2a6f-4cf4-9f1f-c2e0f88835c3",
   "metadata": {},
   "outputs": [],
   "source": [
    "%%bash\n",
    "/home/mdteam/pcmdi_metrics/v2.2.2/env/bin/mean_climate_driver.py --save_test_clims False -p param.py"
   ]
  },
  {
   "cell_type": "code",
   "execution_count": null,
   "id": "0d05a1d4-1a11-4319-bf94-f7aa9ab0cade",
   "metadata": {},
   "outputs": [],
   "source": []
  }
 ],
 "metadata": {
  "kernelspec": {
   "display_name": "Python 3.9 (pcmdi_metrics)",
   "language": "python",
   "name": "python3-pmp"
  },
  "language_info": {
   "codemirror_mode": {
    "name": "ipython",
    "version": 3
   },
   "file_extension": ".py",
   "mimetype": "text/x-python",
   "name": "python",
   "nbconvert_exporter": "python",
   "pygments_lexer": "ipython3",
   "version": "3.9.12"
  }
 },
 "nbformat": 4,
 "nbformat_minor": 5
}
