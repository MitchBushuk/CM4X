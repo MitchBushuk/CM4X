{
 "cells": [
  {
   "cell_type": "code",
   "execution_count": 1,
   "id": "12b609e4-6bb6-4442-94af-84ae763d890c",
   "metadata": {
    "tags": []
   },
   "outputs": [],
   "source": [
    "%load_ext autoreload\n",
    "%autoreload 2"
   ]
  },
  {
   "cell_type": "code",
   "execution_count": 2,
   "id": "5a96136a-73bf-442c-8361-398c7a23c1ea",
   "metadata": {},
   "outputs": [],
   "source": [
    "import numpy as np\n",
    "import xarray as xr"
   ]
  },
  {
   "cell_type": "code",
   "execution_count": 3,
   "id": "bce6e59e-f6a1-4d70-9740-afff07939f64",
   "metadata": {},
   "outputs": [],
   "source": [
    "def time_mean(ds):\n",
    "    coords = ds.coords\n",
    "    weights = xr.DataArray(\n",
    "        ds.time_bounds.diff(\"time_bounds\").values.astype(\"float64\"),\n",
    "        coords={\"time\":ds.time},\n",
    "        dims=(\"time\",)\n",
    "    )\n",
    "    ds_mean = ds.weighted(weights).mean(\"time\")\n",
    "    ds_mean = ds_mean.assign_coords({c:coord for (c,coord) in coords.items() if c not in ds_mean.coords})\n",
    "    return ds_mean"
   ]
  },
  {
   "cell_type": "code",
   "execution_count": 8,
   "id": "1bb1c237-acc5-4921-8cca-fe2e15ea3d29",
   "metadata": {},
   "outputs": [],
   "source": [
    "toSv = 1e-6/1035.\n",
    "for model in [\"CM4Xp25\", \"CM4Xp125\"]:\n",
    "    wmt = xr.open_zarr(f\"../../data/wmb_{model}_global_2340-2349.zarr\") * toSv\n",
    "    wmt_mean = time_mean(wmt.sel(exp=\"control\"))\n",
    "    wmt_mean_subset = wmt_mean[[\n",
    "        'mass_tendency',\n",
    "        'mass_source',\n",
    "        'boundary_fluxes',\n",
    "        'diffusion',\n",
    "        'spurious_numerical_mixing',\n",
    "        'layer_mass',\n",
    "        \n",
    "    ]].assign_coords(wmt_mean.coords).drop_dims([\"xh\", \"yh\"])\n",
    "    wmt_mean_subset.load()\n",
    "    wmt_mean_subset.to_netcdf(f\"../../data/plotting_ready/wmb_{model}_global_2340-2349_time-mean.nc\", mode=\"w\")"
   ]
  }
 ],
 "metadata": {
  "kernelspec": {
   "display_name": "Python 3 (ipykernel)",
   "language": "python",
   "name": "python3"
  },
  "language_info": {
   "codemirror_mode": {
    "name": "ipython",
    "version": 3
   },
   "file_extension": ".py",
   "mimetype": "text/x-python",
   "name": "python",
   "nbconvert_exporter": "python",
   "pygments_lexer": "ipython3",
   "version": "3.12.3"
  }
 },
 "nbformat": 4,
 "nbformat_minor": 5
}
