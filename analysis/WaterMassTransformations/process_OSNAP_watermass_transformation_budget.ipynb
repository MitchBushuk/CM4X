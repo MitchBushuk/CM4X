{
 "cells": [
  {
   "cell_type": "code",
   "execution_count": 12,
   "id": "12b609e4-6bb6-4442-94af-84ae763d890c",
   "metadata": {
    "tags": []
   },
   "outputs": [
    {
     "name": "stdout",
     "output_type": "stream",
     "text": [
      "The autoreload extension is already loaded. To reload it, use:\n",
      "  %reload_ext autoreload\n"
     ]
    }
   ],
   "source": [
    "%load_ext autoreload\n",
    "%autoreload 2"
   ]
  },
  {
   "cell_type": "code",
   "execution_count": 13,
   "id": "5a96136a-73bf-442c-8361-398c7a23c1ea",
   "metadata": {},
   "outputs": [],
   "source": [
    "import numpy as np\n",
    "import xarray as xr\n",
    "\n",
    "import doralite\n",
    "import gfdl_utils.core as gu\n",
    "import CM4Xutils\n",
    "\n",
    "import xbudget\n",
    "import regionate\n",
    "import xwmb\n",
    "import warnings"
   ]
  },
  {
   "cell_type": "code",
   "execution_count": 14,
   "id": "bce6e59e-f6a1-4d70-9740-afff07939f64",
   "metadata": {},
   "outputs": [],
   "source": [
    "def time_mean(ds, ds_weights=None):\n",
    "    coords = ds.coords\n",
    "    if ds_weights is None:\n",
    "        weights = xr.DataArray(\n",
    "            ds.time_bounds.diff(\"time_bounds\").values.astype(\"float64\"),\n",
    "            coords={\"time\":ds.time},\n",
    "            dims=(\"time\",)\n",
    "        )\n",
    "    else:\n",
    "        weights = xr.DataArray(\n",
    "            ds_weights.time_bounds.diff(\"time_bounds\").values.astype(\"float64\"),\n",
    "            coords={\"time\":ds_weights.time},\n",
    "            dims=(\"time\",)\n",
    "        )\n",
    "    ds_mean = ds.weighted(weights).mean(\"time\")\n",
    "    ds_mean = ds_mean.assign_coords({c:coord for (c,coord) in coords.items() if c not in ds_mean.coords})\n",
    "    return ds_mean"
   ]
  },
  {
   "cell_type": "code",
   "execution_count": 38,
   "id": "1bb1c237-acc5-4921-8cca-fe2e15ea3d29",
   "metadata": {},
   "outputs": [],
   "source": [
    "models = [\"CM4Xp25\", \"CM4Xp125\"]\n",
    "toSv = 1e-6/1035.\n",
    "\n",
    "wmb_vars = [\n",
    "    'boundary_fluxes',\n",
    "    'diffusion',\n",
    "    'spurious_numerical_mixing',\n",
    "    'mass_source',\n",
    "    'mass_tendency',\n",
    "    'convergent_mass_transport_along'\n",
    "]\n",
    "\n",
    "for model in models:\n",
    "    wmt_west = time_mean(\n",
    "        xr.open_zarr(f\"../../data/wmb_{model}_Labrador_2010-2024.zarr\").sel(exp=\"forced\")\n",
    "    ).drop_vars([\"exp\", \"lat\", \"lon\", \"wet\"])*toSv\n",
    "    wmt_east = time_mean(\n",
    "        xr.open_zarr(f\"../../data/wmb_{model}_IrmingerIceland_2010-2024.zarr\").sel(exp=\"forced\")\n",
    "    ).drop_vars([\"exp\", \"lat\", \"lon\", \"wet\"])*toSv\n",
    "    wmt_west = wmt_west.sel(xh=slice(-80, 10), yh=slice(45, 75))\n",
    "    wmt_west = wmt_west[wmb_vars].assign_coords(wmt_west.coords)\n",
    "    \n",
    "    wmt_east = wmt_east.sel(xh=slice(-80, 10), yh=slice(45, 75))\n",
    "    wmt_east = wmt_east[wmb_vars].assign_coords(wmt_east.coords)\n",
    "    \n",
    "    sec_ranges = {\n",
    "        \"west\": {\n",
    "            \"Davis Strait Inflow\": np.arange(110, wmt_west.lon_sect.size),\n",
    "            \"OSNAP-W\": np.arange(0, 110)\n",
    "        },\n",
    "        \"east\": {\n",
    "            \"Nordic Sea Overflows\": np.arange(0, 224),\n",
    "            \"OSNAP-E\": np.arange(224, wmt_east.lon_sect.size)\n",
    "        }\n",
    "    }\n",
    "\n",
    "    wmt_west[\"convergent_mass_transport_Davis\"] = wmt_west[\"convergent_mass_transport_along\"].isel(sect=sec_ranges[\"west\"][\"Davis Strait Inflow\"]).sum(\"sect\")\n",
    "    wmt_west[\"convergent_mass_transport_OSNAP-W\"] = wmt_west[\"convergent_mass_transport_along\"].isel(sect=sec_ranges[\"west\"][\"OSNAP-W\"]).sum(\"sect\")\n",
    "\n",
    "    wmt_east[\"convergent_mass_transport_Nordic\"] = wmt_east[\"convergent_mass_transport_along\"].isel(sect=sec_ranges[\"east\"][\"Nordic Sea Overflows\"]).sum(\"sect\")\n",
    "    wmt_east[\"convergent_mass_transport_OSNAP-E\"] = wmt_east[\"convergent_mass_transport_along\"].isel(sect=sec_ranges[\"east\"][\"OSNAP-E\"]).sum(\"sect\")\n",
    "\n",
    "    wmt_west.to_netcdf(f\"../../data/plotting_ready/wmb_OSNAP-west_{model}.nc\", mode=\"w\")\n",
    "    wmt_east.to_netcdf(f\"../../data/plotting_ready/wmb_OSNAP-west_{model}.nc\", mode=\"w\")"
   ]
  },
  {
   "cell_type": "code",
   "execution_count": 41,
   "id": "6b73262c-bd10-43b9-a6db-27b31e8dd183",
   "metadata": {},
   "outputs": [],
   "source": [
    "# Surface water mass transformation maps in CM4Xp125\n",
    "wmt_map_west = xr.concat([\n",
    "    xr.open_zarr(f\"../../data/wmb_boundary_flux_maps_CM4Xp125_Labrador_2010-2014.zarr\").sel(exp=\"forced\"),\n",
    "    xr.open_zarr(f\"../../data/wmb_boundary_flux_maps_CM4Xp125_Labrador_2015-2019.zarr\").sel(exp=\"forced\"),\n",
    "    xr.open_zarr(f\"../../data/wmb_boundary_flux_maps_CM4Xp125_Labrador_2020-2024.zarr\").sel(exp=\"forced\")\n",
    "], dim=\"time\").mean(\"time\")\n",
    "wmt_map_east = xr.concat([\n",
    "    xr.open_zarr(f\"../../data/wmb_boundary_flux_maps_CM4Xp125_IrmingerIceland_2010-2014.zarr\").sel(exp=\"forced\"),\n",
    "    xr.open_zarr(f\"../../data/wmb_boundary_flux_maps_CM4Xp125_IrmingerIceland_2015-2019.zarr\").sel(exp=\"forced\"),\n",
    "    xr.open_zarr(f\"../../data/wmb_boundary_flux_maps_CM4Xp125_IrmingerIceland_2020-2024.zarr\").sel(exp=\"forced\")\n",
    "], dim=\"time\").mean(\"time\")\n",
    "\n",
    "swmt = (wmt_map_west['boundary_fluxes'] + wmt_map_east['boundary_fluxes'])/wmt_map_west['areacello']*toSv*1e11\n",
    "swmt = swmt.where(swmt!=0).rename(\"swmt\")\n",
    "swmt.to_netcdf(\"../../data/plotting_ready/swmt_OSNAP_CM4Xp125.nc\", mode=\"w\")"
   ]
  }
 ],
 "metadata": {
  "kernelspec": {
   "display_name": "Python 3 (ipykernel)",
   "language": "python",
   "name": "python3"
  },
  "language_info": {
   "codemirror_mode": {
    "name": "ipython",
    "version": 3
   },
   "file_extension": ".py",
   "mimetype": "text/x-python",
   "name": "python",
   "nbconvert_exporter": "python",
   "pygments_lexer": "ipython3",
   "version": "3.12.3"
  }
 },
 "nbformat": 4,
 "nbformat_minor": 5
}
