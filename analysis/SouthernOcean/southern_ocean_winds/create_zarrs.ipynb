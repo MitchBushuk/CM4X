{
 "cells": [
  {
   "cell_type": "code",
   "execution_count": 1,
   "id": "0f89c9f7-3a0f-410a-b8a6-d7344eba8cf1",
   "metadata": {
    "tags": []
   },
   "outputs": [],
   "source": [
    "import xarray as xr"
   ]
  },
  {
   "cell_type": "code",
   "execution_count": 2,
   "id": "1ff7e6ee-34ec-4170-8fc8-b14cc080b5d0",
   "metadata": {
    "tags": []
   },
   "outputs": [],
   "source": [
    "experiments = [\"odiv-210\", \"odiv-230\", \"odiv-231\", \"odiv-232\"]\n",
    "experiments = [\"odiv-209\", \"odiv-255\"]\n",
    "experiments = [\"odiv-255\"]"
   ]
  },
  {
   "cell_type": "code",
   "execution_count": 3,
   "id": "92fdbd78-2cfe-4825-bb8c-f32ccf9ec96c",
   "metadata": {
    "tags": []
   },
   "outputs": [],
   "source": [
    "for exp in experiments:\n",
    "    ds = xr.open_mfdataset(f\"/work/Katherine.Turner/CM4X-model-output/{exp}/monthly/*_ref.nc\", \n",
    "                           use_cftime = True,\n",
    "                           drop_variables=['average_DT','average_T1','average_T2'])\n",
    "    timelength = ds.time.shape[0]\n",
    "    \n",
    "    zarr_out = ds.chunk({\"time\": timelength, \"lat\":90, \"lon\":144})\n",
    "    \n",
    "    zarr_output_path = f\"/work/Katherine.Turner/CM4X-model-output/{exp}/monthly_winds_zarr\"\n",
    "    \n",
    "    zarr_out.to_zarr(zarr_output_path)"
   ]
  },
  {
   "cell_type": "code",
   "execution_count": 31,
   "id": "06f39364-0c4f-425f-99a3-3fd1f886acc3",
   "metadata": {
    "tags": []
   },
   "outputs": [
    {
     "data": {
      "text/plain": [
       "<xarray.backends.zarr.ZarrStore at 0x2b7aab572ce0>"
      ]
     },
     "execution_count": 31,
     "metadata": {},
     "output_type": "execute_result"
    }
   ],
   "source": [
    "reanalyses = \"ERA5\"\n",
    "\n",
    "ds = xr.open_mfdataset(f\"/work/Katherine.Turner/CM4X-model-output/{reanalyses}/*.nc\")\n",
    "timelength = ds.time.shape[0]\n",
    "\n",
    "zarr_out = ds.chunk({\"time\": timelength, \"latitude\":103, \"longitude\":144}).rename({\"latitude\":\"lat\", \"longitude\":\"lon\"})\n",
    "\n",
    "zarr_output_path = f\"/work/Katherine.Turner/CM4X-model-output/{reanalyses}/monthly_winds_zarr\"\n",
    "zarr_out.to_zarr(zarr_output_path)"
   ]
  },
  {
   "cell_type": "code",
   "execution_count": 21,
   "id": "94381ea4-c719-4382-8d35-55b9a2e9373a",
   "metadata": {
    "tags": []
   },
   "outputs": [],
   "source": [
    "reanalyses = \"JRA-do\"\n",
    "\n",
    "ds = xr.open_mfdataset(f\"/work/Katherine.Turner/CM4X-model-output/{reanalyses}/*.nc\", \n",
    "                      use_cftime = True,\n",
    "                      drop_variables=['lat_bnds','lon_bnds'])\n",
    "timelength = ds.time.shape[0]"
   ]
  },
  {
   "cell_type": "code",
   "execution_count": 23,
   "id": "999d32c0-26bc-47f4-b071-80766e1ef75b",
   "metadata": {
    "tags": []
   },
   "outputs": [
    {
     "data": {
      "text/plain": [
       "32.0"
      ]
     },
     "execution_count": 23,
     "metadata": {},
     "output_type": "execute_result"
    }
   ],
   "source": [
    "timelength/3793"
   ]
  },
  {
   "cell_type": "code",
   "execution_count": 24,
   "id": "47dd3eac-0fd1-4f19-b586-e46fe7aaf48f",
   "metadata": {
    "tags": []
   },
   "outputs": [
    {
     "data": {
      "text/plain": [
       "<xarray.backends.zarr.ZarrStore at 0x2b8ef42e4120>"
      ]
     },
     "execution_count": 24,
     "metadata": {},
     "output_type": "execute_result"
    }
   ],
   "source": [
    "zarr_out = ds.chunk({\"time\":3793, \"lat\":64, \"lon\":64})\n",
    "\n",
    "zarr_output_path = f\"/work/Katherine.Turner/CM4X-model-output/{reanalyses}/dailyx8_winds_zarr\"\n",
    "zarr_out.to_zarr(zarr_output_path)"
   ]
  },
  {
   "cell_type": "code",
   "execution_count": 26,
   "id": "b3d9af28-71ef-4212-ae54-4e8f46aa35d9",
   "metadata": {
    "tags": []
   },
   "outputs": [],
   "source": [
    "ds_jra_mid = xr.open_zarr(f\"/work/Katherine.Turner/CM4X-model-output/{reanalyses}/dailyx8_winds_zarr\",\n",
    "                            use_cftime=True)"
   ]
  },
  {
   "cell_type": "code",
   "execution_count": 33,
   "id": "c90c74e5-9bd2-4547-943a-9be34129a4bb",
   "metadata": {
    "tags": []
   },
   "outputs": [
    {
     "data": {
      "text/plain": [
       "<xarray.backends.zarr.ZarrStore at 0x2b8ef8c7c120>"
      ]
     },
     "execution_count": 33,
     "metadata": {},
     "output_type": "execute_result"
    }
   ],
   "source": [
    "zarr_out = ds_jra_mid.resample(time=\"1M\").mean().chunk({\"time\":499, \"lat\":80, \"lon\":160})\n",
    "zarr_output_path = f\"/work/Katherine.Turner/CM4X-model-output/{reanalyses}/monthly_winds_zarr\"\n",
    "zarr_out.to_zarr(zarr_output_path)"
   ]
  },
  {
   "cell_type": "code",
   "execution_count": null,
   "id": "254a807e-ef67-43d9-9947-b7ab9ff4451f",
   "metadata": {},
   "outputs": [],
   "source": []
  }
 ],
 "metadata": {
  "kernelspec": {
   "display_name": "Python 3 (ipykernel)",
   "language": "python",
   "name": "python3"
  },
  "language_info": {
   "codemirror_mode": {
    "name": "ipython",
    "version": 3
   },
   "file_extension": ".py",
   "mimetype": "text/x-python",
   "name": "python",
   "nbconvert_exporter": "python",
   "pygments_lexer": "ipython3",
   "version": "3.10.10"
  }
 },
 "nbformat": 4,
 "nbformat_minor": 5
}
